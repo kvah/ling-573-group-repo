{
  "nbformat": 4,
  "nbformat_minor": 0,
  "metadata": {
    "colab": {
      "name": "finetune_model.ipynb",
      "provenance": [],
      "collapsed_sections": []
    },
    "kernelspec": {
      "name": "python3",
      "display_name": "Python 3"
    },
    "language_info": {
      "name": "python"
    }
  },
  "cells": [
    {
      "cell_type": "code",
      "execution_count": 6,
      "metadata": {
        "id": "M8fSUSfaxYSN"
      },
      "outputs": [],
      "source": [
        "import os\n",
        "import sys\n",
        "import argparse\n",
        "import copy\n",
        "from pathlib import Path \n",
        "\n",
        "import pandas as pd\n",
        "\n",
        "from datasets import load_metric\n",
        "from datasets import Dataset\n",
        "\n",
        "import torch\n",
        "from torch.utils.data import DataLoader\n",
        "from torch.optim import AdamW\n",
        "from transformers import AutoTokenizer\n",
        "from transformers import AutoModelForSequenceClassification\n",
        "from transformers import get_scheduler\n",
        "\n",
        "from tqdm.auto import tqdm\n",
        "import time"
      ]
    },
    {
      "cell_type": "markdown",
      "source": [
        "## Training Script"
      ],
      "metadata": {
        "id": "Bf4QrXhUyvlo"
      }
    },
    {
      "cell_type": "code",
      "source": [
        "%%shell \n",
        "\n",
        "source ~/anaconda3/etc/profile.d/conda.sh\n",
        "conda activate ./573_gpu\n",
        "\n",
        "model_name='xlm-roberta-large'\n",
        "\n",
        "# Test whether condor is using GPU\n",
        "python3 src/test_gpu.py\n",
        "\n",
        "# Preprocess tweets\n",
        "python3 src/preprocess_olid.py \\\n",
        "    --file data/olid-training-v1.0.tsv \\\n",
        "    --train_ids data/eng_train_ids.txt \\\n",
        "    --val_ids data/eng_val_ids.txt \\\n",
        "    --split_punctuation \\\n",
        "    --remove_apostraphes \\\n",
        "    --remove_hashtags\n",
        "\n",
        "# Finetune pretrained model on training data\n",
        "python3 src/finetune_pretrained.py \\\n",
        "    --train_data data/clean_train_english.tsv \\\n",
        "    --val_data data/clean_val_english.tsv \\\n",
        "    --config configs/${model_name}.json"
      ],
      "metadata": {
        "id": "UUOMfIiAzg_M"
      },
      "execution_count": null,
      "outputs": []
    },
    {
      "cell_type": "markdown",
      "source": [
        "## Inference & Evaluation"
      ],
      "metadata": {
        "id": "RbhqhEQZ0hAi"
      }
    },
    {
      "cell_type": "code",
      "source": [
        "%%shell \n",
        "\n",
        "# Run finetuned model predictions and generate output\n",
        "python3 src/finetune_predict.py \\\n",
        "    --val_data data/clean_val_english.tsv \\\n",
        "    --config configs/${model_name}.json \\\n",
        "    --model_path models/${model_name} \\\n",
        "    --val_output_csv outputs/D4/D4_english_preds.csv\n",
        "\n",
        "# Evaluation script\n",
        "python3 src/eval.py \\\n",
        "    --val_output_csv outputs/D4/D4_english_preds.csv \\\n",
        "    --output_path results/D4_english_scores.out"
      ],
      "metadata": {
        "id": "r_n82eQV0jkj"
      },
      "execution_count": null,
      "outputs": []
    }
  ]
}